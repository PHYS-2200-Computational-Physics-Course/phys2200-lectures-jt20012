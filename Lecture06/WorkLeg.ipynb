{
 "cells": [
  {
   "cell_type": "code",
   "execution_count": null,
   "id": "7a5120cc-216c-4b94-a235-2ec310720a05",
   "metadata": {},
   "outputs": [],
   "source": [
    "\n",
    "\"\"\"\n",
    "    mylegendre(m, x)\n",
    "\n",
    "Calculate Legendre polynomial P_n(x) using the recurrence relation    \n",
    "(n+1)P_{n+1}(x) = (2*n+1)*x*P_n(x) - n*P_{n-1}(x), and P_0(x) = 1, P_1(x) = x\n",
    "\"\"\"\n",
    "function mylegendre(m, x)\n",
    "    pp = 1\n",
    "    if m==0\n",
    "        return pp\n",
    "    end\n",
    "    \n",
    "    pc = x\n",
    "    if m==1\n",
    "        return pc\n",
    "    end\n",
    "    \n",
    "    for n=1:(m-1)\n",
    "       # pn = ((2*n+1)/(n+1))*x*pc-(n/(n+1))*pp\n",
    "       # pp=pc\n",
    "       # pc=pn\n",
    "        pc, pp = ((2*n+1)/(n+1))*x*pc-(n/(n+1))*pp,pc\n",
    "    end\n",
    "    \n",
    "    return pc\n",
    "    \n",
    "end"
   ]
  },
  {
   "cell_type": "code",
   "execution_count": null,
   "id": "7eb58915-f40f-4971-a65e-3cfa28f21d8d",
   "metadata": {},
   "outputs": [],
   "source": [
    "\n",
    "@show mylegendre(3, 0.0);   # must be 0\n",
    "@show mylegendre(3, -1.0);  # must be -1"
   ]
  },
  {
   "cell_type": "code",
   "execution_count": null,
   "id": "0bf6c795-771a-4364-b6a8-907408210183",
   "metadata": {},
   "outputs": [],
   "source": [
    "@time mylegendre(1,1.0)"
   ]
  },
  {
   "cell_type": "code",
   "execution_count": null,
   "id": "cc2b0bc5-e2f2-4652-b2fb-c2df87f0e9ae",
   "metadata": {},
   "outputs": [],
   "source": [
    "@time mylegendre(51,-1.0)"
   ]
  },
  {
   "cell_type": "code",
   "execution_count": null,
   "id": "711ad8b0-71a6-4b9b-9877-f71031266705",
   "metadata": {},
   "outputs": [],
   "source": [
    "\n",
    "np = 100\n",
    "x = range(-1.0, 1.0, np)"
   ]
  },
  {
   "cell_type": "code",
   "execution_count": null,
   "id": "634bc970-b827-48b2-ab87-7adfbfee8646",
   "metadata": {},
   "outputs": [],
   "source": [
    "using PyPlot "
   ]
  },
  {
   "cell_type": "code",
   "execution_count": null,
   "id": "a13bbbec-f578-4547-801a-20ee88d7407e",
   "metadata": {},
   "outputs": [],
   "source": [
    "\n",
    "for n = [2, 3, 5, 7]\n",
    "    y = mylegendre.(n, x);\n",
    "    plot(x, y, label=L\"P_{%$n}(x)\")\n",
    "end\n",
    "\n",
    "grid(true)\n",
    "legend()\n",
    "title(\"Legendre polynomials\")\n",
    "xlabel(\"x\")\n",
    "ylabel(\"y\");"
   ]
  },
  {
   "cell_type": "code",
   "execution_count": null,
   "id": "d9f2c622-a1a3-4db7-9d70-090a98fae2e3",
   "metadata": {},
   "outputs": [],
   "source": []
  }
 ],
 "metadata": {
  "kernelspec": {
   "display_name": "Julia 1.11.6",
   "language": "julia",
   "name": "julia-1.11"
  },
  "language_info": {
   "file_extension": ".jl",
   "mimetype": "application/julia",
   "name": "julia",
   "version": "1.11.6"
  }
 },
 "nbformat": 4,
 "nbformat_minor": 5
}
