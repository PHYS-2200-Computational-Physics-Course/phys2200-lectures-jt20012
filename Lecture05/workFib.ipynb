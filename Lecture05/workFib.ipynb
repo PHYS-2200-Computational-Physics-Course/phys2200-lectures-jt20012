{
 "cells": [
  {
   "cell_type": "code",
   "execution_count": 4,
   "id": "259467e7-a68b-4309-9ed2-d650564eda9d",
   "metadata": {},
   "outputs": [
    {
     "data": {
      "text/plain": [
       "myfib"
      ]
     },
     "execution_count": 4,
     "metadata": {},
     "output_type": "execute_result"
    }
   ],
   "source": [
    "\n",
    "\"\"\"\n",
    "    myfib(n)\n",
    "\n",
    "Calculate Fibonacci number F_n using the recurrence relation\n",
    "F_1 = 1, F_2 = 1, and F_n = F_n-1 + F_n-2 for n > 2.\n",
    "\"\"\"\n",
    "function myfib(n)\n",
    "    fp=1\n",
    "    if n == 1\n",
    "        return fp\n",
    "    end\n",
    "    \n",
    "    fc=1\n",
    "    if n == 2\n",
    "        return fc\n",
    "    end\n",
    "    for i = 3:n\n",
    "        fn = fc + fp\n",
    "        fp = fc\n",
    "        fc = fn\n",
    "    end\n",
    "    \n",
    "    return fc\n",
    "end"
   ]
  },
  {
   "cell_type": "code",
   "execution_count": null,
   "id": "aa85f1c4-c8a4-4645-8736-61dd3119a95e",
   "metadata": {},
   "outputs": [],
   "source": [
    "?myfib"
   ]
  },
  {
   "cell_type": "code",
   "execution_count": 12,
   "id": "664fd7b5-b787-4ec2-b2d5-c0636b47fa76",
   "metadata": {},
   "outputs": [
    {
     "data": {
      "text/plain": [
       "10-element Vector{Int64}:\n",
       "  1\n",
       "  1\n",
       "  2\n",
       "  3\n",
       "  5\n",
       "  8\n",
       " 13\n",
       " 21\n",
       " 34\n",
       " 55"
      ]
     },
     "execution_count": 12,
     "metadata": {},
     "output_type": "execute_result"
    }
   ],
   "source": [
    "myfib.(1:10)"
   ]
  },
  {
   "cell_type": "code",
   "execution_count": 18,
   "id": "bfed1440-128f-4324-8c7f-4ec4bc612209",
   "metadata": {},
   "outputs": [
    {
     "data": {
      "text/plain": [
       "myfibrec (generic function with 1 method)"
      ]
     },
     "execution_count": 18,
     "metadata": {},
     "output_type": "execute_result"
    }
   ],
   "source": [
    "function myfibrec(n)\n",
    "    if n==1\n",
    "        return 1\n",
    "    elseif n==2\n",
    "        return 1\n",
    "    end\n",
    "    \n",
    "    return myfibrec(n-1)+myfibrec(n-2)\n",
    "\n",
    "end"
   ]
  },
  {
   "cell_type": "code",
   "execution_count": null,
   "id": "ec6a1f88-f934-4cf0-86ee-dcd6f60d519e",
   "metadata": {},
   "outputs": [],
   "source": [
    "myfibrec.(1:11)"
   ]
  },
  {
   "cell_type": "code",
   "execution_count": null,
   "id": "cf22505a-8481-473a-8ab0-28acd9be4fa9",
   "metadata": {},
   "outputs": [],
   "source": [
    "\n",
    "@time myfib(50);"
   ]
  },
  {
   "cell_type": "code",
   "execution_count": null,
   "id": "f1966660-38fd-4983-876f-8fbdbf0ee55d",
   "metadata": {},
   "outputs": [],
   "source": [
    "@time myfibrec.(50);"
   ]
  },
  {
   "cell_type": "code",
   "execution_count": null,
   "id": "ec65716b-e36a-424f-9e05-6e1e8074c126",
   "metadata": {},
   "outputs": [],
   "source": []
  }
 ],
 "metadata": {
  "kernelspec": {
   "display_name": "Julia 1.11.6",
   "language": "julia",
   "name": "julia-1.11"
  },
  "language_info": {
   "file_extension": ".jl",
   "mimetype": "application/julia",
   "name": "julia",
   "version": "1.11.6"
  }
 },
 "nbformat": 4,
 "nbformat_minor": 5
}
