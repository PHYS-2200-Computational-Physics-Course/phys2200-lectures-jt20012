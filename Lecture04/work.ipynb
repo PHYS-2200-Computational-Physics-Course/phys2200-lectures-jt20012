{
 "cells": [
  {
   "cell_type": "code",
   "execution_count": null,
   "id": "d03acd47-7fb1-4a6c-8728-ec4ba2ff1eff",
   "metadata": {},
   "outputs": [],
   "source": [
    "# ] add DelimitedFiles"
   ]
  },
  {
   "cell_type": "code",
   "execution_count": null,
   "id": "ce42815d-bf77-4c77-bad6-d2a65c016fa4",
   "metadata": {},
   "outputs": [],
   "source": [
    "using DelimitedFiles\n",
    "using PyPlot"
   ]
  },
  {
   "cell_type": "code",
   "execution_count": null,
   "id": "118a49a3-1cde-4b42-9700-46e04434eee1",
   "metadata": {},
   "outputs": [],
   "source": [
    "url = \"https://www.phys.uconn.edu/~rozman/Courses/P2200_25F/downloads/trinity-test.data\""
   ]
  },
  {
   "cell_type": "code",
   "execution_count": null,
   "id": "3d8a6a80-6f02-4ab5-882f-c9ceb43e0eea",
   "metadata": {},
   "outputs": [],
   "source": [
    "obsevations = download(url)"
   ]
  },
  {
   "cell_type": "code",
   "execution_count": null,
   "id": "a2548cd7-36fe-4dba-92d0-6264f77362bb",
   "metadata": {},
   "outputs": [],
   "source": [
    "dat = readdlm(obsevations, comments=true, comment_char='#')"
   ]
  },
  {
   "cell_type": "code",
   "execution_count": null,
   "id": "f939d8d2-9f50-4bc7-9ca6-a3430833b443",
   "metadata": {},
   "outputs": [],
   "source": [
    "time = dat[:, 1]"
   ]
  },
  {
   "cell_type": "code",
   "execution_count": null,
   "id": "2db8726f-61a5-4ece-aa1d-545806bacdf8",
   "metadata": {},
   "outputs": [],
   "source": [
    "radius = dat[:, 2]"
   ]
  },
  {
   "cell_type": "code",
   "execution_count": null,
   "id": "56ed204c-cf03-41be-9bd3-efd19c15b2c6",
   "metadata": {},
   "outputs": [],
   "source": [
    "np = length(time)"
   ]
  },
  {
   "cell_type": "code",
   "execution_count": null,
   "id": "ead3412d-e66a-47fa-a47d-d041aa07e5ce",
   "metadata": {},
   "outputs": [],
   "source": [
    "plot(time, radius)"
   ]
  },
  {
   "cell_type": "code",
   "execution_count": null,
   "id": "b79b14a3-46ed-412f-b0a4-dc4bf6bd0a88",
   "metadata": {},
   "outputs": [],
   "source": [
    "loglog(time, radius, \"bo\", label=\"observations\")\n",
    "grid(true)\n",
    "xlabel(\"t (ms)\")\n",
    "ylabel(\"R (m)\")\n",
    "legend()\n",
    "title(\"Trinity fireball radius as a function of time\");"
   ]
  },
  {
   "cell_type": "code",
   "execution_count": null,
   "id": "37dbbc09-3b96-46bf-9bc6-823f93420fa8",
   "metadata": {},
   "outputs": [],
   "source": [
    "nm = length(time[3:end])"
   ]
  },
  {
   "cell_type": "code",
   "execution_count": null,
   "id": "c3ec00e6-3631-4362-b6f9-3ed47c9d190d",
   "metadata": {},
   "outputs": [],
   "source": [
    "tlogbar = sum(log.(time[3:end]))/nm"
   ]
  },
  {
   "cell_type": "code",
   "execution_count": null,
   "id": "fa2551ce-48fa-4df7-9265-e6191bdd5389",
   "metadata": {},
   "outputs": [],
   "source": [
    "rlogbar = sum(log.(radius[3:end]))/nm"
   ]
  },
  {
   "cell_type": "code",
   "execution_count": null,
   "id": "d9be6359-70fe-446e-bbeb-ddd97383e00a",
   "metadata": {},
   "outputs": [],
   "source": [
    "alphalogbar = rlogbar - 2/5*tlogbar"
   ]
  },
  {
   "cell_type": "code",
   "execution_count": null,
   "id": "ac09c343-e905-46cc-aac6-8eafe7cb6115",
   "metadata": {},
   "outputs": [],
   "source": [
    "\n",
    "const scale = 1.0e6   # Extra factor due to measuring time in ms\n",
    "const rho = 1.2       # Density of air in kg/m^3 at T = 20 C\n",
    "const tnt = 4.184e12; # J per 1 kt of TNT"
   ]
  },
  {
   "cell_type": "code",
   "execution_count": null,
   "id": "be78d1e3-fb42-4f2d-bcec-438f32cebbaa",
   "metadata": {},
   "outputs": [],
   "source": [
    "alpha = exp(alphalogbar)\n",
    "println(\"α = $(round(alpha, sigdigits=4))\")"
   ]
  },
  {
   "cell_type": "code",
   "execution_count": null,
   "id": "107313c7-fa38-425e-bd6e-322492aa0dea",
   "metadata": {},
   "outputs": [],
   "source": [
    "energyJ = scale * alpha^5 * rho \n",
    "println(\"E = $(round(energyJ, sigdigits=3)) Joules\")"
   ]
  },
  {
   "cell_type": "code",
   "execution_count": null,
   "id": "d6559e51-7586-45e0-bbcc-f622fef00439",
   "metadata": {},
   "outputs": [],
   "source": [
    "energyT = energyJ / tnt  # Equivalent amount of TNT in kilotons\n",
    "println(\"E = $(round(energyT, sigdigits=3)) kilotons of TNT\")"
   ]
  },
  {
   "cell_type": "code",
   "execution_count": null,
   "id": "fe5760f8-6b12-48f5-a1b5-8f072e0247da",
   "metadata": {},
   "outputs": [],
   "source": [
    "rad(u, al) = al * u^(2/5) ;"
   ]
  },
  {
   "cell_type": "code",
   "execution_count": null,
   "id": "8ed32157-8371-4dac-8fa7-06b05e6fcf37",
   "metadata": {},
   "outputs": [],
   "source": [
    "loglog(time, radius, \"bo\", label=\"observations\")\n",
    "loglog(time, rad.(time, alpha), \"-\", label=\"theory\")\n",
    "grid(true)\n",
    "xlabel(\"t (ms)\")\n",
    "ylabel(\"R (m)\")\n",
    "legend()\n",
    "title(\"Trinity fireball radius as a function of time\");"
   ]
  },
  {
   "cell_type": "code",
   "execution_count": null,
   "id": "80f31f59-4f39-493f-9758-abd8f88f8d00",
   "metadata": {},
   "outputs": [],
   "source": []
  }
 ],
 "metadata": {
  "kernelspec": {
   "display_name": "Julia 1.11.6",
   "language": "julia",
   "name": "julia-1.11"
  },
  "language_info": {
   "file_extension": ".jl",
   "mimetype": "application/julia",
   "name": "julia",
   "version": "1.11.6"
  }
 },
 "nbformat": 4,
 "nbformat_minor": 5
}
