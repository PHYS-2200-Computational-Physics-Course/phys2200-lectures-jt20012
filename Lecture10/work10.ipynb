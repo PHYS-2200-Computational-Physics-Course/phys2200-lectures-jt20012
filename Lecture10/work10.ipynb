{
 "cells": [
  {
   "cell_type": "code",
   "execution_count": 2,
   "id": "abed4f1d-7afe-4fe7-92f1-8209671abedf",
   "metadata": {},
   "outputs": [
    {
     "data": {
      "text/plain": [
       "mybasel"
      ]
     },
     "execution_count": 2,
     "metadata": {},
     "output_type": "execute_result"
    }
   ],
   "source": [
    "\n",
    "\"\"\"\n",
    "    s = mybasel(N)\n",
    "\n",
    "Caluclate finite Basel sum\n",
    "\"\"\"\n",
    "function mybasel(N)\n",
    "    s = 0.0\n",
    "    for n = 1:N\n",
    "        s += 1/(n^2)\n",
    "    end\n",
    "    return s\n",
    "end\n"
   ]
  },
  {
   "cell_type": "code",
   "execution_count": 5,
   "id": "dad2602b-fbad-4cd9-9f0e-38fa489f2798",
   "metadata": {},
   "outputs": [
    {
     "data": {
      "text/plain": [
       "0.001"
      ]
     },
     "execution_count": 5,
     "metadata": {},
     "output_type": "execute_result"
    }
   ],
   "source": [
    "round(abs(mybasel(1000) - pi^2/6), sigdigits=1)"
   ]
  },
  {
   "cell_type": "code",
   "execution_count": 6,
   "id": "247c04f4-0ba8-411a-b778-3f848961b0d5",
   "metadata": {},
   "outputs": [
    {
     "data": {
      "text/plain": [
       "myrichardson (generic function with 1 method)"
      ]
     },
     "execution_count": 6,
     "metadata": {},
     "output_type": "execute_result"
    }
   ],
   "source": [
    "\n",
    "function myrichardson(N)\n",
    "    s1 = mybasel(N)\n",
    "    s2 = mybasel(2*N)\n",
    "    return 2*s2 - s1\n",
    "end"
   ]
  },
  {
   "cell_type": "code",
   "execution_count": 7,
   "id": "e7540453-8e94-4bd2-b719-347db01f8ef9",
   "metadata": {},
   "outputs": [
    {
     "data": {
      "text/plain": [
       "2.0e-7"
      ]
     },
     "execution_count": 7,
     "metadata": {},
     "output_type": "execute_result"
    }
   ],
   "source": [
    "round(abs(myrichardson(1000) - pi^2/6), sigdigits=1)"
   ]
  },
  {
   "cell_type": "code",
   "execution_count": 19,
   "id": "1f6852a9-9202-4661-b0a9-0d43f33f6114",
   "metadata": {},
   "outputs": [
    {
     "data": {
      "text/plain": [
       "2.0e-7"
      ]
     },
     "execution_count": 19,
     "metadata": {},
     "output_type": "execute_result"
    }
   ],
   "source": [
    "round(abs(mybasel(4000000) - pi^2/6), sigdigits=1)"
   ]
  },
  {
   "cell_type": "code",
   "execution_count": 4,
   "id": "b848a993-01d9-4dd3-986a-dbaa952d779c",
   "metadata": {},
   "outputs": [
    {
     "name": "stderr",
     "output_type": "stream",
     "text": [
      "\u001b[32m\u001b[1m    Updating\u001b[22m\u001b[39m registry at `~/.julia/registries/General.toml`\n",
      "\u001b[32m\u001b[1m   Resolving\u001b[22m\u001b[39m package versions...\n",
      "\u001b[32m\u001b[1m   Installed\u001b[22m\u001b[39m OrderedCollections ─ v1.8.1\n",
      "\u001b[32m\u001b[1m   Installed\u001b[22m\u001b[39m QuadGK ───────────── v2.11.2\n",
      "\u001b[32m\u001b[1m   Installed\u001b[22m\u001b[39m DataStructures ───── v0.19.1\n",
      "\u001b[32m\u001b[1m    Updating\u001b[22m\u001b[39m `/workspaces/phys2200-lectures-jt20012/Project.toml`\n",
      "  \u001b[90m[1fd47b50] \u001b[39m\u001b[92m+ QuadGK v2.11.2\u001b[39m\n",
      "\u001b[32m\u001b[1m    Updating\u001b[22m\u001b[39m `/workspaces/phys2200-lectures-jt20012/Manifest.toml`\n",
      "  \u001b[90m[864edb3b] \u001b[39m\u001b[92m+ DataStructures v0.19.1\u001b[39m\n",
      "  \u001b[90m[bac558e1] \u001b[39m\u001b[92m+ OrderedCollections v1.8.1\u001b[39m\n",
      "  \u001b[90m[1fd47b50] \u001b[39m\u001b[92m+ QuadGK v2.11.2\u001b[39m\n",
      "\u001b[92m\u001b[1mPrecompiling\u001b[22m\u001b[39m project...\n",
      "   1751.7 ms\u001b[32m  ✓ \u001b[39m\u001b[90mOrderedCollections\u001b[39m\n",
      "   1683.3 ms\u001b[32m  ✓ \u001b[39m\u001b[90mDataStructures\u001b[39m\n",
      "    789.0 ms\u001b[32m  ✓ \u001b[39mQuadGK\n",
      "  3 dependencies successfully precompiled in 7 seconds. 52 already precompiled.\n"
     ]
    }
   ],
   "source": [
    "] add QuadGK"
   ]
  },
  {
   "cell_type": "code",
   "execution_count": 5,
   "id": "173618ba-abe6-4500-8f94-f6f6104313c6",
   "metadata": {},
   "outputs": [],
   "source": [
    "\n",
    "using QuadGK"
   ]
  },
  {
   "cell_type": "code",
   "execution_count": 6,
   "id": "fe506f3f-1041-44b6-be91-ad4fde601080",
   "metadata": {},
   "outputs": [
    {
     "data": {
      "text/plain": [
       "fun1 (generic function with 1 method)"
      ]
     },
     "execution_count": 6,
     "metadata": {},
     "output_type": "execute_result"
    }
   ],
   "source": [
    "\n",
    "fun1(x) = 1/sqrt(x)"
   ]
  },
  {
   "cell_type": "code",
   "execution_count": 9,
   "id": "da615290-62bc-428d-b25d-fedb6f75ee52",
   "metadata": {},
   "outputs": [
    {
     "data": {
      "text/plain": [
       "2.0"
      ]
     },
     "execution_count": 9,
     "metadata": {},
     "output_type": "execute_result"
    }
   ],
   "source": [
    "\n",
    "round(quadgk(fun1, 0, 1)[1],sigdigits=5)"
   ]
  },
  {
   "cell_type": "code",
   "execution_count": 10,
   "id": "89ea1da4-8c2e-461c-9a82-9c0dd9f0f706",
   "metadata": {},
   "outputs": [
    {
     "data": {
      "text/plain": [
       "fun2 (generic function with 1 method)"
      ]
     },
     "execution_count": 10,
     "metadata": {},
     "output_type": "execute_result"
    }
   ],
   "source": [
    "\n",
    "fun2(x) = exp(-x)*log(x)"
   ]
  },
  {
   "cell_type": "code",
   "execution_count": 14,
   "id": "a650afa5-1a17-482e-b123-b20d5b9a652c",
   "metadata": {},
   "outputs": [
    {
     "data": {
      "text/plain": [
       "(-0.5772156640944036, 4.619449696675028e-9)"
      ]
     },
     "execution_count": 14,
     "metadata": {},
     "output_type": "execute_result"
    }
   ],
   "source": [
    "\n",
    "quadgk(fun2, 0, Inf)"
   ]
  },
  {
   "cell_type": "code",
   "execution_count": null,
   "id": "3b829a06-535a-459a-91b5-9fa360af6497",
   "metadata": {},
   "outputs": [],
   "source": []
  }
 ],
 "metadata": {
  "kernelspec": {
   "display_name": "Julia 1.11.6",
   "language": "julia",
   "name": "julia-1.11"
  },
  "language_info": {
   "file_extension": ".jl",
   "mimetype": "application/julia",
   "name": "julia",
   "version": "1.11.6"
  }
 },
 "nbformat": 4,
 "nbformat_minor": 5
}
