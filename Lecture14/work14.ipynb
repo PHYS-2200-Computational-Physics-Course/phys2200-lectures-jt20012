{
 "cells": [
  {
   "cell_type": "markdown",
   "id": "1be174b8-d09e-44c4-8dec-c9ce2a8c51a1",
   "metadata": {},
   "source": [
    "# Double Pendulum"
   ]
  },
  {
   "cell_type": "code",
   "execution_count": 2,
   "id": "81fbdad0-3b9f-49b5-9e91-cd92b4a251a3",
   "metadata": {},
   "outputs": [
    {
     "name": "stderr",
     "output_type": "stream",
     "text": [
      "\u001b[32m\u001b[1m   Resolving\u001b[22m\u001b[39m package versions...\n",
      "\u001b[32m\u001b[1m  No Changes\u001b[22m\u001b[39m to `/workspaces/phys2200-lectures-jt20012/Project.toml`\n",
      "\u001b[32m\u001b[1m  No Changes\u001b[22m\u001b[39m to `/workspaces/phys2200-lectures-jt20012/Manifest.toml`\n"
     ]
    }
   ],
   "source": [
    "# ] add OrdinaryDiffEqTsit5"
   ]
  },
  {
   "cell_type": "code",
   "execution_count": 3,
   "id": "6c9e8bd0-d0ca-4144-9331-6a0717908c8a",
   "metadata": {},
   "outputs": [
    {
     "name": "stderr",
     "output_type": "stream",
     "text": [
      "\u001b[32m\u001b[1m   Resolving\u001b[22m\u001b[39m package versions...\n",
      "\u001b[32m\u001b[1m    Updating\u001b[22m\u001b[39m `/workspaces/phys2200-lectures-jt20012/Project.toml`\n",
      "  \u001b[90m[de0858da] \u001b[39m\u001b[92m+ Printf v1.11.0\u001b[39m\n",
      "\u001b[32m\u001b[1m  No Changes\u001b[22m\u001b[39m to `/workspaces/phys2200-lectures-jt20012/Manifest.toml`\n"
     ]
    }
   ],
   "source": [
    "# ] add Printf"
   ]
  },
  {
   "cell_type": "code",
   "execution_count": 4,
   "id": "49dcaff1-9644-4e66-9936-20bcfc33085e",
   "metadata": {},
   "outputs": [
    {
     "name": "stderr",
     "output_type": "stream",
     "text": [
      "\u001b[32m\u001b[1m   Resolving\u001b[22m\u001b[39m package versions...\n",
      "\u001b[32m\u001b[1m    Updating\u001b[22m\u001b[39m `/workspaces/phys2200-lectures-jt20012/Project.toml`\n",
      "  \u001b[90m[5ae59095] \u001b[39m\u001b[92m+ Colors v0.13.1\u001b[39m\n",
      "\u001b[32m\u001b[1m  No Changes\u001b[22m\u001b[39m to `/workspaces/phys2200-lectures-jt20012/Manifest.toml`\n"
     ]
    }
   ],
   "source": [
    "# ] add Colors"
   ]
  },
  {
   "cell_type": "code",
   "execution_count": 1,
   "id": "b4028e46-191c-4a70-8d34-18b51e1e3838",
   "metadata": {},
   "outputs": [],
   "source": [
    "using PyPlot\n",
    "using OrdinaryDiffEqTsit5\n",
    "using Printf\n",
    "using Colors"
   ]
  },
  {
   "cell_type": "code",
   "execution_count": 2,
   "id": "593a9af2-7d8a-46b6-b81f-1f397068beca",
   "metadata": {},
   "outputs": [
    {
     "data": {
      "text/plain": [
       "doublependulum!"
      ]
     },
     "execution_count": 2,
     "metadata": {},
     "output_type": "execute_result"
    }
   ],
   "source": [
    "\n",
    "\"\"\"\n",
    "            Function doublependulum!(dudt, u, p, t)\n",
    "\n",
    "......\n",
    "\"\"\"\n",
    "function doublependulum!(dudt, u, p, t)\n",
    "    # unpack variables and parameters\n",
    "    theta1 = u[1]\n",
    "    theta2 = u[2]\n",
    "    dtheta1dt = u[3]\n",
    "    dtheta2dt = u[4]\n",
    "    κ, ν = p\n",
    "    \n",
    "    sn, cs = sincos(theta1 - theta2)\n",
    "    a1 = κ*cs\n",
    "    a2 = ν*cs\n",
    "    γ = 1/(1.0 - a1*a2)\n",
    "    \n",
    "    f1 = -κ*sn*dtheta2dt^2 - sin(theta1)\n",
    "    f2 =  ν*(sn*dtheta1dt^2 - ν*sin(theta2))\n",
    "\n",
    "    dudt[1] = u[3]\n",
    "    dudt[2] = u[4]\n",
    "    dudt[3] = γ*(f1 - a1*f2)\n",
    "    dudt[4] = γ*(f2 - a2*f1)\n",
    "    \n",
    "    return nothing\n",
    "end\n"
   ]
  },
  {
   "cell_type": "code",
   "execution_count": 3,
   "id": "09edb8e4-b701-49bc-8df5-e3c01f91f1ec",
   "metadata": {},
   "outputs": [],
   "source": [
    "\n",
    "l1 = 1.0\n",
    "l2 = 1.0  \n",
    "m1 = 1.0 \n",
    "m2 = 1.0;"
   ]
  },
  {
   "cell_type": "code",
   "execution_count": 7,
   "id": "b39483a8-b5f3-4b55-8697-8ad6e2716514",
   "metadata": {},
   "outputs": [],
   "source": [
    "tspan = (0.0, 500.0)\n",
    "initial = [pi, pi/100, 0.0, 0.0];"
   ]
  },
  {
   "cell_type": "code",
   "execution_count": 8,
   "id": "5af551b6-021b-454f-b345-db8acb3557ff",
   "metadata": {},
   "outputs": [],
   "source": [
    "\n",
    "ν = l1/l2\n",
    "κ = 1 / ν * m2 / (m1 + m2)\n",
    "# Pack the parameters\n",
    "p = (κ, ν);\n",
    "prob = ODEProblem(doublependulum!, initial, tspan, p);"
   ]
  },
  {
   "cell_type": "code",
   "execution_count": 10,
   "id": "32a5a689-e533-42a1-bfde-8607dc17159e",
   "metadata": {},
   "outputs": [],
   "source": [
    "sol = solve(prob, Tsit5(), abstol=1e-7, reltol=1e-7);"
   ]
  },
  {
   "cell_type": "code",
   "execution_count": 11,
   "id": "5b7a2b22-aa95-4c7f-8184-c396c8c5c589",
   "metadata": {},
   "outputs": [],
   "source": [
    "\n",
    "np = 2001\n",
    "t = range(tspan[1], tspan[2], np)\n",
    "sl = sol(t);"
   ]
  },
  {
   "cell_type": "code",
   "execution_count": 12,
   "id": "f16b9693-d683-4b68-85c4-ed09739515ad",
   "metadata": {},
   "outputs": [],
   "source": [
    "\n",
    "theta1 = sl[1, :]\n",
    "theta2 = sl[2, :]\n",
    "x1 =  l1 .* sin.(theta1)\n",
    "y1 = -l1 .* cos.(theta1)\n",
    "x2 = x1 .+ l2 .* sin.(theta2)\n",
    "y2 = y1 .- l2 .* cos.(theta2);"
   ]
  },
  {
   "cell_type": "code",
   "execution_count": 16,
   "id": "51686eca-54ce-462f-a6f8-5dea65b0da24",
   "metadata": {},
   "outputs": [],
   "source": [
    "function snapshot_ft(nt, pts_disp, box, t, x1, y1, x2, y2)\n",
    "    nt_start = max(1, nt-pts_disp)\n",
    "    xl, xr, yb, yt = box\n",
    "    axis(\"square\")\n",
    "    xlim(xl, xr)\n",
    "    ylim(yb, yt)\n",
    "    titl = @sprintf(\"Double pendulum t = %5.2f .. %5.2f\",\n",
    "                    t[nt_start], t[nt])\n",
    "    title(titl, family=\"monospace\")\n",
    "    xlabel(L\"$x$\")\n",
    "    ylabel(L\"$y$\")\n",
    "    grid(true)\n",
    "\n",
    "    # pivot\n",
    "    plot(0.0, 0.0, color=\"black\", marker=\"x\", markersize=5.0)\n",
    "\n",
    "    # two rods\n",
    "    plot([0.0, x1[nt],x2[nt]], [0.0, y1[nt], y2[nt]], color=\"black\")\n",
    "\n",
    "    # mass 1\n",
    "    c1 = \"green\"\n",
    "    plot(x1[nt], y1[nt], color=c1, marker=\"o\", markersize=5.0)\n",
    "    \n",
    "    # mass 2\n",
    "    c2 = \"blue\"\n",
    "    plot(x2[nt], y2[nt], color=c2, marker=\"o\", markersize=5.0)\n",
    "\n",
    "    # fading tail trajectory of mass 2\n",
    "    c2p = parse(RGBA, c2)\n",
    "    for i = nt_start:nt-1\n",
    "        transp = 1.0 - ((nt-i-1)/(pts_disp-1))^2\n",
    "        cc = (c2p.r, c2p.g, c2p.b, transp)\n",
    "        plot([x2[i], x2[i+1]], [y2[i], y2[i+1]], color=cc, linewidth=0.5)\n",
    "    end\n",
    "    return nothing\n",
    "end;"
   ]
  },
  {
   "cell_type": "code",
   "execution_count": 13,
   "id": "20532502-52f6-4f8f-bdc4-3c18cd67375c",
   "metadata": {},
   "outputs": [],
   "source": [
    "axis_lim = (l1 + l2)*1.2\n",
    "xl = -axis_lim\n",
    "xr = -xl\n",
    "yb = -axis_lim\n",
    "yt = -yb\n",
    "box = (xl, xr, yb, yt);"
   ]
  },
  {
   "cell_type": "code",
   "execution_count": 14,
   "id": "70e53830-6a4d-4bca-b1d2-da9b089452c6",
   "metadata": {},
   "outputs": [
    {
     "data": {
      "text/plain": [
       "200"
      ]
     },
     "execution_count": 14,
     "metadata": {},
     "output_type": "execute_result"
    }
   ],
   "source": [
    "f = 0.1                      # Fraction of displayed points\n",
    "pts_disp = round(Int, f*np)  # Number of displayed points"
   ]
  },
  {
   "cell_type": "code",
   "execution_count": null,
   "id": "ed4c11af-c085-4017-a46a-c6e5896b56d6",
   "metadata": {},
   "outputs": [],
   "source": [
    "\n",
    "fig = figure()\n",
    "for nt = 1:10:np\n",
    "    snapshot_ft(nt, pts_disp, box, t, x1, y1, x2, y2)\n",
    "    display(fig)\n",
    "    IJulia.clear_output(true)\n",
    "    clf()\n",
    "end"
   ]
  },
  {
   "cell_type": "code",
   "execution_count": null,
   "id": "bb3bbede-101d-462a-8169-ca9712f5cb2e",
   "metadata": {},
   "outputs": [],
   "source": []
  }
 ],
 "metadata": {
  "kernelspec": {
   "display_name": "Julia 1.11.6",
   "language": "julia",
   "name": "julia-1.11"
  },
  "language_info": {
   "file_extension": ".jl",
   "mimetype": "application/julia",
   "name": "julia",
   "version": "1.11.6"
  }
 },
 "nbformat": 4,
 "nbformat_minor": 5
}
