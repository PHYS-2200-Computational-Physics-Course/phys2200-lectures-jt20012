{
 "cells": [
  {
   "cell_type": "code",
   "execution_count": 3,
   "id": "b973f926-2aa0-413b-9b51-37be2bed52d3",
   "metadata": {},
   "outputs": [
    {
     "data": {
      "text/plain": [
       "mytrapezoids"
      ]
     },
     "execution_count": 3,
     "metadata": {},
     "output_type": "execute_result"
    }
   ],
   "source": [
    "\n",
    "\"\"\"\n",
    "    ans = mytrapezoids(fun, a, b, n)\n",
    "\n",
    "Numerically evaluate the integral int_a^b fun(x) dx using the\n",
    "trapezoidal rule: I = h/2*(f_1 + 2f_2 + ... + 2f_{n-1} + f_n),\n",
    "where h = (b - a)/(n - 1), x_i = a + (i - 1)*h, f_i = fun(x_i).\n",
    "\"\"\"\n",
    "function mytrapezoids(fun, a, b, n)\n",
    "    h = (b - a)/(n - 1)\n",
    "    s1 = fun(a) + fun(b)\n",
    "    s2 = 0\n",
    "    for i = 2:(n-1)\n",
    "        s2 += fun(a + h*(i - 1))\n",
    "    end\n",
    "    return (h/2)*(s1 + 2*s2)\n",
    "end"
   ]
  },
  {
   "cell_type": "code",
   "execution_count": 4,
   "id": "30961572-07d9-4a73-afd7-4204681238fa",
   "metadata": {},
   "outputs": [
    {
     "data": {
      "text/plain": [
       "20"
      ]
     },
     "execution_count": 4,
     "metadata": {},
     "output_type": "execute_result"
    }
   ],
   "source": [
    "\n",
    "fun1(x) = 1/x\n",
    "a1 = 1.0\n",
    "b1 = 2.0\n",
    "exact1 = log(2)\n",
    "n1 = 20"
   ]
  },
  {
   "cell_type": "code",
   "execution_count": 5,
   "id": "1579ce4a-b5d5-4d58-bc43-fed26bdacffb",
   "metadata": {},
   "outputs": [
    {
     "data": {
      "text/plain": [
       "0.6933202508885106"
      ]
     },
     "execution_count": 5,
     "metadata": {},
     "output_type": "execute_result"
    }
   ],
   "source": [
    "\n",
    "result1 = mytrapezoids(fun1, a1, b1, n1)"
   ]
  },
  {
   "cell_type": "code",
   "execution_count": 6,
   "id": "a76d4c9b-3df6-4118-95fa-2089c47c3851",
   "metadata": {},
   "outputs": [
    {
     "data": {
      "text/plain": [
       "0.6931471805599453"
      ]
     },
     "execution_count": 6,
     "metadata": {},
     "output_type": "execute_result"
    }
   ],
   "source": [
    "exact1"
   ]
  },
  {
   "cell_type": "code",
   "execution_count": 7,
   "id": "f5978b93-a118-4a07-b42b-a2e125d3f47d",
   "metadata": {},
   "outputs": [
    {
     "data": {
      "text/plain": [
       "0.0002"
      ]
     },
     "execution_count": 7,
     "metadata": {},
     "output_type": "execute_result"
    }
   ],
   "source": [
    "delta1 = round(abs(result1 - exact1), sigdigits = 1)"
   ]
  },
  {
   "cell_type": "code",
   "execution_count": 8,
   "id": "eddc90bc-e0dd-40f1-865b-f57531cadc0c",
   "metadata": {},
   "outputs": [
    {
     "data": {
      "text/plain": [
       "100"
      ]
     },
     "execution_count": 8,
     "metadata": {},
     "output_type": "execute_result"
    }
   ],
   "source": [
    "\n",
    "fun2(x) = exp(x)\n",
    "a2 = 0.0\n",
    "b2 = 1.0\n",
    "exact2 = exp(1)-1.0\n",
    "n2 = 100"
   ]
  },
  {
   "cell_type": "code",
   "execution_count": 9,
   "id": "7765fa49-acee-4bde-a10a-039be7b37629",
   "metadata": {},
   "outputs": [
    {
     "data": {
      "text/plain": [
       "1.718296438183449"
      ]
     },
     "execution_count": 9,
     "metadata": {},
     "output_type": "execute_result"
    }
   ],
   "source": [
    "result2 = mytrapezoids(fun2,a2,b2,n2)"
   ]
  },
  {
   "cell_type": "code",
   "execution_count": 10,
   "id": "c7acbdff-4aca-4e49-abd4-9a5e03677aef",
   "metadata": {},
   "outputs": [
    {
     "data": {
      "text/plain": [
       "1.0e-5"
      ]
     },
     "execution_count": 10,
     "metadata": {},
     "output_type": "execute_result"
    }
   ],
   "source": [
    "delta2 = round(abs(result2 - exact2), sigdigits = 1)"
   ]
  },
  {
   "cell_type": "code",
   "execution_count": 11,
   "id": "c491ab21-e216-49da-8aba-3a7b52c9c87c",
   "metadata": {},
   "outputs": [
    {
     "data": {
      "text/plain": [
       "2.0"
      ]
     },
     "execution_count": 11,
     "metadata": {},
     "output_type": "execute_result"
    }
   ],
   "source": [
    "\n",
    "fun3(x) = sin(x)\n",
    "a3 = 0.0\n",
    "b3 = pi\n",
    "exact3 = 2.0"
   ]
  },
  {
   "cell_type": "code",
   "execution_count": 12,
   "id": "1cd14e6b-f663-41f1-bc45-599d73c54426",
   "metadata": {},
   "outputs": [
    {
     "data": {
      "text/plain": [
       "10-element Vector{Float64}:\n",
       " 0.0\n",
       " 0.0\n",
       " 0.0\n",
       " 0.0\n",
       " 0.0\n",
       " 0.0\n",
       " 0.0\n",
       " 0.0\n",
       " 0.0\n",
       " 0.0"
      ]
     },
     "execution_count": 12,
     "metadata": {},
     "output_type": "execute_result"
    }
   ],
   "source": [
    "\n",
    "ndp = 10\n",
    "hh = zeros(ndp) #create array of ndp elements\n",
    "abserrs = zeros(ndp)"
   ]
  },
  {
   "cell_type": "code",
   "execution_count": 13,
   "id": "9d0041cf-ab1a-429a-96ef-7de40d0d153e",
   "metadata": {},
   "outputs": [],
   "source": [
    "\n",
    "for i = 1:ndp\n",
    "    np = 2^i + 1\n",
    "    hh[i] = (b3 - a3)/(np - 1)\n",
    "    abserrs[i] = abs(mytrapezoids(fun3,a3,b3,np) - exact3)\n",
    "end"
   ]
  },
  {
   "cell_type": "code",
   "execution_count": 14,
   "id": "4be6fbe9-c777-4905-a54a-17507610be34",
   "metadata": {},
   "outputs": [
    {
     "data": {
      "text/plain": [
       "10-element Vector{Float64}:\n",
       " 1.5707963267948966\n",
       " 0.7853981633974483\n",
       " 0.39269908169872414\n",
       " 0.19634954084936207\n",
       " 0.09817477042468103\n",
       " 0.04908738521234052\n",
       " 0.02454369260617026\n",
       " 0.01227184630308513\n",
       " 0.006135923151542565\n",
       " 0.0030679615757712823"
      ]
     },
     "execution_count": 14,
     "metadata": {},
     "output_type": "execute_result"
    }
   ],
   "source": [
    "hh"
   ]
  },
  {
   "cell_type": "code",
   "execution_count": null,
   "id": "bc11af43-6a57-4bed-99cf-d024b5061df0",
   "metadata": {},
   "outputs": [],
   "source": [
    "abserrs"
   ]
  },
  {
   "cell_type": "code",
   "execution_count": null,
   "id": "6e49c11c-5ac7-4bfd-a90e-7275f33a05fd",
   "metadata": {},
   "outputs": [],
   "source": [
    "\n",
    "using PyPlot"
   ]
  },
  {
   "cell_type": "code",
   "execution_count": null,
   "id": "76b9e3ea-66c2-4755-aa9f-43166886d957",
   "metadata": {},
   "outputs": [],
   "source": [
    "\n",
    "loglog(hh, abserrs, marker=\".\", label=\"Numerical experiment\")\n",
    "loglog(hh, hh.^2, linestyle=\"dashed\", label=L\"h^2\")\n",
    "grid(true)\n",
    "xlabel(\"h\")\n",
    "ylabel(\"absolute error\")\n",
    "title(\"Error of Trapezoidal Formula\")\n",
    "legend();"
   ]
  },
  {
   "cell_type": "code",
   "execution_count": 15,
   "id": "2747d349-4f2c-4dee-92f6-3237d050e9b6",
   "metadata": {},
   "outputs": [
    {
     "data": {
      "text/plain": [
       "mytrapezoids2 (generic function with 1 method)"
      ]
     },
     "execution_count": 15,
     "metadata": {},
     "output_type": "execute_result"
    }
   ],
   "source": [
    "function mytrapezoids2(fv,h)\n",
    "    return (h/2)*(fv[1] + fv[end] + 2*sum(fv[2:(end-1)]))\n",
    "end\n",
    "    "
   ]
  },
  {
   "cell_type": "code",
   "execution_count": 16,
   "id": "e4febb80-57de-4341-a153-eca1fc9a7282",
   "metadata": {},
   "outputs": [
    {
     "data": {
      "text/plain": [
       "0.0002"
      ]
     },
     "execution_count": 16,
     "metadata": {},
     "output_type": "execute_result"
    }
   ],
   "source": [
    "\n",
    "x1 = range(a1,b1,n1)\n",
    "fv1 = fun1.(x1)\n",
    "h1 = x1[2] - x1[1]\n",
    "round(abs(mytrapezoids2(fv1,h1) - exact1),sigdigits=1)"
   ]
  },
  {
   "cell_type": "code",
   "execution_count": 17,
   "id": "43fe7ee1-95bf-40dc-af68-7680c42039f9",
   "metadata": {},
   "outputs": [
    {
     "data": {
      "text/plain": [
       "1.0e-5"
      ]
     },
     "execution_count": 17,
     "metadata": {},
     "output_type": "execute_result"
    }
   ],
   "source": [
    "\n",
    "x2 = range(a2,b2,n2)\n",
    "fv2 = fun2.(x2)\n",
    "h2 = x2[2] - x2[1]\n",
    "round(abs(mytrapezoids2(fv2,h2)-exact2),sigdigits=1)"
   ]
  },
  {
   "cell_type": "code",
   "execution_count": 18,
   "id": "f3daec04-ea41-4ef4-bfff-bee9076c9925",
   "metadata": {},
   "outputs": [
    {
     "data": {
      "text/plain": [
       "simpsons2 (generic function with 1 method)"
      ]
     },
     "execution_count": 18,
     "metadata": {},
     "output_type": "execute_result"
    }
   ],
   "source": [
    "\n",
    "function simpsons2(fun, a, b, n)\n",
    "    x = range(a,b,n)\n",
    "    fv = fun.(x)\n",
    "    h = x[2] - x[1]\n",
    "    th = mytrapezoids2(fv,h)\n",
    "    t2h = mytrapezoids2(fv[1:2:end],2*h)\n",
    "    simp = (1/3)*(4*th - t2h)\n",
    "    return simp\n",
    "end"
   ]
  },
  {
   "cell_type": "code",
   "execution_count": 23,
   "id": "0ad171d0-0e65-4a24-bc43-d864034075ec",
   "metadata": {},
   "outputs": [
    {
     "data": {
      "text/plain": [
       "3.0e-7"
      ]
     },
     "execution_count": 23,
     "metadata": {},
     "output_type": "execute_result"
    }
   ],
   "source": [
    "\n",
    "nps1 = 19\n",
    "round(abs(simpsons2(fun1,a1,b1,nps1) - exact1),sigdigits=1)"
   ]
  },
  {
   "cell_type": "code",
   "execution_count": 21,
   "id": "1a0b50a9-0731-4423-b42c-b4fa0c36ced3",
   "metadata": {},
   "outputs": [
    {
     "data": {
      "text/plain": [
       "1.0e-10"
      ]
     },
     "execution_count": 21,
     "metadata": {},
     "output_type": "execute_result"
    }
   ],
   "source": [
    "nps2 = 99\n",
    "round(abs(simpsons2(fun2,a2,b2,nps2) - exact2),sigdigits=1)"
   ]
  },
  {
   "cell_type": "code",
   "execution_count": 25,
   "id": "8452a9f7-aeea-4fe7-b6a2-155f2de05dc8",
   "metadata": {},
   "outputs": [
    {
     "data": {
      "text/plain": [
       "3.0e-7"
      ]
     },
     "execution_count": 25,
     "metadata": {},
     "output_type": "execute_result"
    }
   ],
   "source": [
    "nn = 500\n",
    "round(abs(mytrapezoids(fun1,a1,b1,nn) - exact1),sigdigits=1)"
   ]
  },
  {
   "cell_type": "code",
   "execution_count": null,
   "id": "64c47117-ace3-455e-858b-6368fd4eb75f",
   "metadata": {},
   "outputs": [],
   "source": []
  }
 ],
 "metadata": {
  "kernelspec": {
   "display_name": "Julia 1.11.6",
   "language": "julia",
   "name": "julia-1.11"
  },
  "language_info": {
   "file_extension": ".jl",
   "mimetype": "application/julia",
   "name": "julia",
   "version": "1.11.6"
  }
 },
 "nbformat": 4,
 "nbformat_minor": 5
}
